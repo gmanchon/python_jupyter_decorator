{
 "cells": [
  {
   "cell_type": "markdown",
   "metadata": {},
   "source": [
    "# Interact using a decorator function"
   ]
  },
  {
   "cell_type": "code",
   "execution_count": 1,
   "metadata": {
    "scrolled": true
   },
   "outputs": [
    {
     "data": {
      "application/vnd.jupyter.widget-view+json": {
       "model_id": "40c544833ca24fffb61debb7d1859335",
       "version_major": 2,
       "version_minor": 0
      },
      "text/plain": [
       "IntSlider(value=3, max=5, min=1)"
      ]
     },
     "metadata": {},
     "output_type": "display_data"
    },
    {
     "data": {
      "application/vnd.jupyter.widget-view+json": {
       "model_id": "a0211c99ef664cc898934edd4189d787",
       "version_major": 2,
       "version_minor": 0
      },
      "text/plain": [
       "Output()"
      ]
     },
     "metadata": {},
     "output_type": "display_data"
    }
   ],
   "source": [
    "# using a function decorator seems to make it difficult to identify the function being decorated\n",
    "\n",
    "import ipywidgets as widgets\n",
    "\n",
    "# storing callbacks and output containers for all decorated functions\n",
    "contexts = {}\n",
    "\n",
    "# this function uses the decorator name\n",
    "# but will return the true decorator function\n",
    "def interact(x):\n",
    "\n",
    "    # define decorator\n",
    "    def interact_decorator(func):\n",
    "\n",
    "        function_name = func.__name__\n",
    "\n",
    "        # retrieve widget values\n",
    "        min, max, val = x\n",
    "\n",
    "        # create slider\n",
    "        slider = widgets.IntSlider(\n",
    "            value=val,\n",
    "            min=min,\n",
    "            max=max)\n",
    "\n",
    "        # creating an output container allows to clear part of the ouput\n",
    "        out = widgets.Output()\n",
    "\n",
    "        # define slider change event handler\n",
    "        def handle_slider_change(change):\n",
    "\n",
    "            # check which event is trigerred\n",
    "            if change['name'] == 'value':\n",
    "\n",
    "                # get new value\n",
    "                new_value = change['new']\n",
    "\n",
    "                # clear all outputs in the ouput container\n",
    "                # but not the slider\n",
    "                out = contexts[function_name]['out']\n",
    "                out.clear_output()\n",
    "\n",
    "                with out:\n",
    "                    # call function within output scope\n",
    "                    # in order to print inside of the output container\n",
    "                    contexts[function_name]['function'](new_value)\n",
    "\n",
    "        # attach event handler\n",
    "        slider.observe(handle_slider_change)\n",
    "\n",
    "        # display slider and clearable output\n",
    "        display(slider)\n",
    "        display(out)\n",
    "        \n",
    "        # set callback\n",
    "        contexts[function_name] = {}\n",
    "        contexts[function_name]['function'] = func\n",
    "        # contexts[function_name]['slider'] = slider\n",
    "        contexts[function_name]['out'] = out\n",
    "\n",
    "        # define wrapper\n",
    "        # for manunal decorated function calls\n",
    "        # in practice probably not used\n",
    "        def wrapper(*args, **kwargs):\n",
    "            print(f'wrapper > called with {args} and {kwargs}')\n",
    "            res = func(*args, **kwargs)\n",
    "            print(f'wrapper > res is {res}')\n",
    "            return res\n",
    "\n",
    "        # return wrapper for manual calls of decorated function\n",
    "        return wrapper\n",
    "\n",
    "    # return decorator\n",
    "    return interact_decorator\n",
    "\n",
    "# automatic call is trigerred, the wrapper is not called\n",
    "@interact(x=(1,5,3))\n",
    "def say(x):\n",
    "    res = f'magnificent graph using {x}'\n",
    "    print(f'say > {res}')\n",
    "    return res\n"
   ]
  },
  {
   "cell_type": "code",
   "execution_count": 6,
   "metadata": {},
   "outputs": [
    {
     "name": "stdout",
     "output_type": "stream",
     "text": [
      "wrapper > called with (2,) and {}\n",
      "say > magnificent graph using 2\n",
      "wrapper > res is magnificent graph using 2\n"
     ]
    },
    {
     "data": {
      "text/plain": [
       "'magnificent graph using 2'"
      ]
     },
     "execution_count": 6,
     "metadata": {},
     "output_type": "execute_result"
    }
   ],
   "source": [
    "# manual call : the wrapper is called\n",
    "say(2)"
   ]
  },
  {
   "cell_type": "code",
   "execution_count": 3,
   "metadata": {},
   "outputs": [
    {
     "data": {
      "application/vnd.jupyter.widget-view+json": {
       "model_id": "94dd176118cc4c4c88eb743fac48e3c8",
       "version_major": 2,
       "version_minor": 0
      },
      "text/plain": [
       "IntSlider(value=3, max=5, min=1)"
      ]
     },
     "metadata": {},
     "output_type": "display_data"
    },
    {
     "data": {
      "application/vnd.jupyter.widget-view+json": {
       "model_id": "c829bc9f6db64939ab58edc720e8a88d",
       "version_major": 2,
       "version_minor": 0
      },
      "text/plain": [
       "Output()"
      ]
     },
     "metadata": {},
     "output_type": "display_data"
    }
   ],
   "source": [
    "@interact(x=(1,5,3))\n",
    "def day(x):\n",
    "    res = f'DAAAAAAAAY graph using {x}'\n",
    "    print(f'say > {res}')\n",
    "    return res\n"
   ]
  },
  {
   "cell_type": "code",
   "execution_count": 4,
   "metadata": {},
   "outputs": [
    {
     "data": {
      "application/vnd.jupyter.widget-view+json": {
       "model_id": "18b27dc063154c3787b3d51a0aadd080",
       "version_major": 2,
       "version_minor": 0
      },
      "text/plain": [
       "IntSlider(value=3, max=5, min=1)"
      ]
     },
     "metadata": {},
     "output_type": "display_data"
    },
    {
     "data": {
      "application/vnd.jupyter.widget-view+json": {
       "model_id": "be9219a08da0409191c773ad45d3a0f7",
       "version_major": 2,
       "version_minor": 0
      },
      "text/plain": [
       "Output()"
      ]
     },
     "metadata": {},
     "output_type": "display_data"
    }
   ],
   "source": [
    "@interact(x=(1,5,3))\n",
    "def may(x):\n",
    "    res = f'mAy graph using {x}'\n",
    "    print(f'say > {res}')\n",
    "    return res\n"
   ]
  }
 ],
 "metadata": {
  "kernelspec": {
   "display_name": "Python 3",
   "language": "python",
   "name": "python3"
  },
  "language_info": {
   "codemirror_mode": {
    "name": "ipython",
    "version": 3
   },
   "file_extension": ".py",
   "mimetype": "text/x-python",
   "name": "python",
   "nbconvert_exporter": "python",
   "pygments_lexer": "ipython3",
   "version": "3.7.7"
  },
  "toc": {
   "base_numbering": 1,
   "nav_menu": {},
   "number_sections": true,
   "sideBar": true,
   "skip_h1_title": false,
   "title_cell": "Table of Contents",
   "title_sidebar": "Contents",
   "toc_cell": false,
   "toc_position": {},
   "toc_section_display": true,
   "toc_window_display": false
  },
  "varInspector": {
   "cols": {
    "lenName": 16,
    "lenType": 16,
    "lenVar": 40
   },
   "kernels_config": {
    "python": {
     "delete_cmd_postfix": "",
     "delete_cmd_prefix": "del ",
     "library": "var_list.py",
     "varRefreshCmd": "print(var_dic_list())"
    },
    "r": {
     "delete_cmd_postfix": ") ",
     "delete_cmd_prefix": "rm(",
     "library": "var_list.r",
     "varRefreshCmd": "cat(var_dic_list()) "
    }
   },
   "types_to_exclude": [
    "module",
    "function",
    "builtin_function_or_method",
    "instance",
    "_Feature"
   ],
   "window_display": false
  }
 },
 "nbformat": 4,
 "nbformat_minor": 4
}
