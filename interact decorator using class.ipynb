{
 "cells": [
  {
   "cell_type": "markdown",
   "metadata": {},
   "source": [
    "# Interact using a decorator class"
   ]
  },
  {
   "cell_type": "code",
   "execution_count": 1,
   "metadata": {
    "scrolled": true
   },
   "outputs": [
    {
     "data": {
      "application/vnd.jupyter.widget-view+json": {
       "model_id": "21b7c5d8347444ceacb2616308cd4f7e",
       "version_major": 2,
       "version_minor": 0
      },
      "text/plain": [
       "IntSlider(value=3, max=5, min=1)"
      ]
     },
     "metadata": {},
     "output_type": "display_data"
    },
    {
     "data": {
      "application/vnd.jupyter.widget-view+json": {
       "model_id": "0502dd2b488a49fab76a447ecc69ca74",
       "version_major": 2,
       "version_minor": 0
      },
      "text/plain": [
       "Output()"
      ]
     },
     "metadata": {},
     "output_type": "display_data"
    }
   ],
   "source": [
    "import ipywidgets as widgets\n",
    "\n",
    "from functools import update_wrapper\n",
    "\n",
    "# this function uses the decorator name\n",
    "# but will return the true decorator function\n",
    "def interact(x):\n",
    "\n",
    "    def wrapper(*args, **kwargs):\n",
    "\n",
    "        class DecoratorClass(object):\n",
    "\n",
    "            def __init__(self, original_function):\n",
    "\n",
    "                # store original function\n",
    "                self.original_function = original_function\n",
    "\n",
    "                # update_wrapper replaces wrapping function module, name\n",
    "                # and docstring attributes, which may be useful\n",
    "                # when chaining decorators\n",
    "                update_wrapper(self, self.original_function)\n",
    "\n",
    "                # creating an output container allows to clear part of the ouput\n",
    "                self.out = widgets.Output()\n",
    "\n",
    "                # retrieve widget values\n",
    "                min, max, val = x\n",
    "\n",
    "                # create slider\n",
    "                self.slider = widgets.IntSlider(\n",
    "                    value=val,\n",
    "                    min=min,\n",
    "                    max=max)\n",
    "\n",
    "                # define slider change event handler\n",
    "                def handle_slider_change(change):\n",
    "\n",
    "                    # check which event is trigerred\n",
    "                    if change['name'] == 'value':\n",
    "\n",
    "                        # get new value\n",
    "                        new_value = change['new']\n",
    "\n",
    "                        # clear all outputs in the ouput container\n",
    "                        # but not the slider\n",
    "                        self.out.clear_output()\n",
    "\n",
    "                        with self.out:\n",
    "                            # call function within output scope\n",
    "                            # in order to print inside of the output container\n",
    "                            self.original_function(new_value)\n",
    "\n",
    "                # attach event handler\n",
    "                self.slider.observe(handle_slider_change)\n",
    "\n",
    "                # display slider and clearable output\n",
    "                display(self.slider)\n",
    "                display(self.out)\n",
    "\n",
    "            def __call__(self, *args, **kwargs):\n",
    "                return self.original_function(*args, **kwargs)\n",
    "\n",
    "        return DecoratorClass(*args, **kwargs)\n",
    "\n",
    "    return wrapper\n",
    "\n",
    "# automatic call is trigerred, the wrapper is not called\n",
    "@interact(x=(1,5,3))\n",
    "def say(x):\n",
    "    res = f'magnificent graph using {x}'\n",
    "    print(f'say > {res}')\n",
    "    return res\n"
   ]
  },
  {
   "cell_type": "code",
   "execution_count": 2,
   "metadata": {},
   "outputs": [
    {
     "name": "stdout",
     "output_type": "stream",
     "text": [
      "say > magnificent graph using 2\n"
     ]
    },
    {
     "data": {
      "text/plain": [
       "'magnificent graph using 2'"
      ]
     },
     "execution_count": 2,
     "metadata": {},
     "output_type": "execute_result"
    }
   ],
   "source": [
    "# manual call : the wrapper is called\n",
    "say(2)"
   ]
  },
  {
   "cell_type": "code",
   "execution_count": 3,
   "metadata": {},
   "outputs": [
    {
     "data": {
      "application/vnd.jupyter.widget-view+json": {
       "model_id": "6135df1480bb42cdb6fe876abb796f0b",
       "version_major": 2,
       "version_minor": 0
      },
      "text/plain": [
       "IntSlider(value=3, max=5, min=1)"
      ]
     },
     "metadata": {},
     "output_type": "display_data"
    },
    {
     "data": {
      "application/vnd.jupyter.widget-view+json": {
       "model_id": "98dd30a551a042f3a0f7bad6dd168def",
       "version_major": 2,
       "version_minor": 0
      },
      "text/plain": [
       "Output()"
      ]
     },
     "metadata": {},
     "output_type": "display_data"
    }
   ],
   "source": [
    "@interact(x=(1,5,3))\n",
    "def day(x):\n",
    "    res = f'DAAAAAAAAY graph using {x}'\n",
    "    print(f'say > {res}')\n",
    "    return res\n"
   ]
  },
  {
   "cell_type": "code",
   "execution_count": 4,
   "metadata": {},
   "outputs": [
    {
     "data": {
      "application/vnd.jupyter.widget-view+json": {
       "model_id": "1fd393b007054f329e643d4d5346e9ca",
       "version_major": 2,
       "version_minor": 0
      },
      "text/plain": [
       "IntSlider(value=3, max=5, min=1)"
      ]
     },
     "metadata": {},
     "output_type": "display_data"
    },
    {
     "data": {
      "application/vnd.jupyter.widget-view+json": {
       "model_id": "e83bb0ef1fd045f0bd3304a10d414ebc",
       "version_major": 2,
       "version_minor": 0
      },
      "text/plain": [
       "Output()"
      ]
     },
     "metadata": {},
     "output_type": "display_data"
    }
   ],
   "source": [
    "@interact(x=(1,5,3))\n",
    "def may(x):\n",
    "    res = f'DAAAAAAAAY graph using {x}'\n",
    "    print(f'say > {res}')\n",
    "    return res\n"
   ]
  }
 ],
 "metadata": {
  "kernelspec": {
   "display_name": "Python 3",
   "language": "python",
   "name": "python3"
  },
  "language_info": {
   "codemirror_mode": {
    "name": "ipython",
    "version": 3
   },
   "file_extension": ".py",
   "mimetype": "text/x-python",
   "name": "python",
   "nbconvert_exporter": "python",
   "pygments_lexer": "ipython3",
   "version": "3.7.7"
  },
  "toc": {
   "base_numbering": 1,
   "nav_menu": {},
   "number_sections": true,
   "sideBar": true,
   "skip_h1_title": false,
   "title_cell": "Table of Contents",
   "title_sidebar": "Contents",
   "toc_cell": false,
   "toc_position": {},
   "toc_section_display": true,
   "toc_window_display": false
  },
  "varInspector": {
   "cols": {
    "lenName": 16,
    "lenType": 16,
    "lenVar": 40
   },
   "kernels_config": {
    "python": {
     "delete_cmd_postfix": "",
     "delete_cmd_prefix": "del ",
     "library": "var_list.py",
     "varRefreshCmd": "print(var_dic_list())"
    },
    "r": {
     "delete_cmd_postfix": ") ",
     "delete_cmd_prefix": "rm(",
     "library": "var_list.r",
     "varRefreshCmd": "cat(var_dic_list()) "
    }
   },
   "types_to_exclude": [
    "module",
    "function",
    "builtin_function_or_method",
    "instance",
    "_Feature"
   ],
   "window_display": false
  }
 },
 "nbformat": 4,
 "nbformat_minor": 4
}
